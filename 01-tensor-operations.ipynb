{
 "cells": [
  {
   "cell_type": "markdown",
   "metadata": {
    "id": "7nMNfbVJsn3M"
   },
   "source": [
    "# Basic Tensor Functions\n",
    "\n",
    "An short introduction about PyTorch and about the chosen functions. \n",
    "\n",
    "- randint\n",
    "- sqrt\n",
    "- transpose\n",
    "- linspace\n",
    "- histc\n",
    "\n",
    "Before we begin, let's install and import PyTorch"
   ]
  },
  {
   "cell_type": "code",
   "execution_count": 5,
   "metadata": {
    "executionInfo": {
     "elapsed": 13,
     "status": "ok",
     "timestamp": 1676106120901,
     "user": {
      "displayName": "Mirnaz Ali",
      "userId": "08466191610827258170"
     },
     "user_tz": -300
    },
    "id": "tw_MJoh9sn3N"
   },
   "outputs": [],
   "source": [
    "# Uncomment and run the appropriate command for your operating system, if required\n",
    "\n",
    "# Linux / Binder\n",
    "# !pip install numpy torch==1.7.0+cpu torchvision==0.8.1+cpu torchaudio==0.7.0 -f https://download.pytorch.org/whl/torch_stable.html\n",
    "\n",
    "# Windows\n",
    "# !pip install numpy torch==1.7.0+cpu torchvision==0.8.1+cpu torchaudio==0.7.0 -f https://download.pytorch.org/whl/torch_stable.html\n",
    "\n",
    "# MacOS\n",
    "# !pip install numpy torch torchvision torchaudio"
   ]
  },
  {
   "cell_type": "code",
   "execution_count": 6,
   "metadata": {
    "executionInfo": {
     "elapsed": 10,
     "status": "ok",
     "timestamp": 1676106120903,
     "user": {
      "displayName": "Mirnaz Ali",
      "userId": "08466191610827258170"
     },
     "user_tz": -300
    },
    "id": "WQUJsAxosn3O"
   },
   "outputs": [],
   "source": [
    "# Import torch and other required modules\n",
    "import torch"
   ]
  },
  {
   "cell_type": "raw",
   "metadata": {
    "id": "dmf3yORysn3P"
   },
   "source": [
    "## Function 1 - torch.randint()\n",
    "\n",
    "This is a function that generates a tensor, of the size which is input, filled with random integers in the inputted range. The first argument is optional, and is set to 0 and it defines the minimum value. The second and the third arguments are to be passed, which define the maximum value of the range (this value is exclusive, maximum value is one less than this), and the size of the tensor that will be generated respectively. Make sure to enter the size in the form of a tuple."
   ]
  },
  {
   "cell_type": "code",
   "execution_count": 7,
   "metadata": {
    "colab": {
     "base_uri": "https://localhost:8080/"
    },
    "executionInfo": {
     "elapsed": 613,
     "status": "ok",
     "timestamp": 1676106123474,
     "user": {
      "displayName": "Mirnaz Ali",
      "userId": "08466191610827258170"
     },
     "user_tz": -300
    },
    "id": "t25FWeHbsn3Q",
    "outputId": "c59aeb49-6dee-47a3-c99e-6bbd0b7ffbbd"
   },
   "outputs": [
    {
     "data": {
      "text/plain": [
       "tensor([[2, 3]])"
      ]
     },
     "execution_count": 7,
     "metadata": {},
     "output_type": "execute_result"
    }
   ],
   "source": [
    "# Example 1 - working\n",
    "torch.randint(2,5,(1,2))"
   ]
  },
  {
   "cell_type": "markdown",
   "metadata": {
    "id": "bnmv1oszsn3R"
   },
   "source": [
    "Here, the values in the tensor generated will be between 2 and 4, which will be of the size (1,2)"
   ]
  },
  {
   "cell_type": "code",
   "execution_count": 8,
   "metadata": {
    "colab": {
     "base_uri": "https://localhost:8080/"
    },
    "executionInfo": {
     "elapsed": 14,
     "status": "ok",
     "timestamp": 1676106125461,
     "user": {
      "displayName": "Mirnaz Ali",
      "userId": "08466191610827258170"
     },
     "user_tz": -300
    },
    "id": "KEQh2BPWsn3S",
    "outputId": "75676ab2-81b2-4a32-a87c-9de97408b35c"
   },
   "outputs": [
    {
     "data": {
      "text/plain": [
       "tensor([6, 1])"
      ]
     },
     "execution_count": 8,
     "metadata": {},
     "output_type": "execute_result"
    }
   ],
   "source": [
    "# Example 2 - working\n",
    "torch.randint(7,(2,))"
   ]
  },
  {
   "cell_type": "markdown",
   "metadata": {
    "id": "oOBXVqsUsn3S"
   },
   "source": [
    "Here, the values in the tensor generated will be between 0 and 6, which will be a tensor of size 2."
   ]
  },
  {
   "cell_type": "code",
   "execution_count": 9,
   "metadata": {
    "colab": {
     "base_uri": "https://localhost:8080/",
     "height": 287
    },
    "executionInfo": {
     "elapsed": 20,
     "status": "error",
     "timestamp": 1676106127865,
     "user": {
      "displayName": "Mirnaz Ali",
      "userId": "08466191610827258170"
     },
     "user_tz": -300
    },
    "id": "7lVNuOQcsn3T",
    "outputId": "e3e51dff-9ede-4544-9f7c-232ca443245f"
   },
   "outputs": [
    {
     "ename": "TypeError",
     "evalue": "ignored",
     "output_type": "error",
     "traceback": [
      "\u001b[0;31m---------------------------------------------------------------------------\u001b[0m",
      "\u001b[0;31mTypeError\u001b[0m                                 Traceback (most recent call last)",
      "\u001b[0;32m<ipython-input-9-591d6aac5606>\u001b[0m in \u001b[0;36m<module>\u001b[0;34m\u001b[0m\n\u001b[1;32m      1\u001b[0m \u001b[0;31m# Example 3 - breaking (to illustrate when it breaks)\u001b[0m\u001b[0;34m\u001b[0m\u001b[0;34m\u001b[0m\u001b[0;34m\u001b[0m\u001b[0m\n\u001b[0;32m----> 2\u001b[0;31m \u001b[0mtorch\u001b[0m\u001b[0;34m.\u001b[0m\u001b[0mrandint\u001b[0m\u001b[0;34m(\u001b[0m\u001b[0;36m7\u001b[0m\u001b[0;34m,\u001b[0m\u001b[0;36m15\u001b[0m\u001b[0;34m,\u001b[0m\u001b[0;36m2\u001b[0m\u001b[0;34m,\u001b[0m\u001b[0;36m3\u001b[0m\u001b[0;34m)\u001b[0m\u001b[0;34m\u001b[0m\u001b[0;34m\u001b[0m\u001b[0m\n\u001b[0m",
      "\u001b[0;31mTypeError\u001b[0m: randint() received an invalid combination of arguments - got (int, int, int, int), but expected one of:\n * (int high, tuple of ints size, *, torch.Generator generator, Tensor out, torch.dtype dtype, torch.layout layout, torch.device device, bool pin_memory, bool requires_grad)\n * (int high, tuple of ints size, *, Tensor out, torch.dtype dtype, torch.layout layout, torch.device device, bool pin_memory, bool requires_grad)\n * (int low, int high, tuple of ints size, *, torch.Generator generator, Tensor out, torch.dtype dtype, torch.layout layout, torch.device device, bool pin_memory, bool requires_grad)\n * (int low, int high, tuple of ints size, *, Tensor out, torch.dtype dtype, torch.layout layout, torch.device device, bool pin_memory, bool requires_grad)\n"
     ]
    }
   ],
   "source": [
    "# Example 3 - breaking (to illustrate when it breaks)\n",
    "torch.randint(7,15,2,3)"
   ]
  },
  {
   "cell_type": "markdown",
   "metadata": {
    "id": "TyOcObI2sn3T"
   },
   "source": [
    "Now, the function gives error when trying to generate a tensor of size (2,3). However, since the size of the tensor has not been passed as a tuple, the function gives an error regarding this. It was expecting a tuple, so make sure that the size is always a tuple."
   ]
  },
  {
   "cell_type": "markdown",
   "metadata": {
    "id": "BW4WzmYlsn3U"
   },
   "source": [
    "This function can be used, when trying to generate initial assumptions for the biases and weights in the machine learning model, or when random and quick data is needed to test out your algorithm under huge number of values, to check if it fails under any value by chance. "
   ]
  },
  {
   "cell_type": "markdown",
   "metadata": {
    "id": "5BPO4gJksn3U"
   },
   "source": [
    "Let's save our work using Jovian before continuing."
   ]
  },
  {
   "cell_type": "code",
   "execution_count": null,
   "metadata": {
    "id": "BOXf1JSdsn3V"
   },
   "outputs": [],
   "source": [
    "!pip install jovian --upgrade --quiet"
   ]
  },
  {
   "cell_type": "code",
   "execution_count": 4,
   "metadata": {
    "executionInfo": {
     "elapsed": 7,
     "status": "ok",
     "timestamp": 1676106050249,
     "user": {
      "displayName": "Mirnaz Ali",
      "userId": "08466191610827258170"
     },
     "user_tz": -300
    },
    "id": "paLh8icGsn3V"
   },
   "outputs": [],
   "source": [
    "import jovian"
   ]
  },
  {
   "cell_type": "code",
   "execution_count": null,
   "metadata": {
    "id": "AkY4zL1Csn3V",
    "outputId": "52a498f6-69cc-434c-9f58-1bb7ab29b653"
   },
   "outputs": [
    {
     "data": {
      "application/javascript": [
       "window.require && require([\"base/js/namespace\"],function(Jupyter){Jupyter.notebook.save_checkpoint()})"
      ],
      "text/plain": [
       "<IPython.core.display.Javascript object>"
      ]
     },
     "metadata": {},
     "output_type": "display_data"
    }
   ],
   "source": [
    "jovian.commit(project='Assignment-01-tensor-operations')"
   ]
  },
  {
   "cell_type": "markdown",
   "metadata": {
    "id": "E_Tt5F_dsn3W"
   },
   "source": [
    "## Function 2 - torch.sqrt\n",
    "\n",
    "This is a function that generates a tensor, that corresponds to the square roots of the elements of the tensor that was passed to it."
   ]
  },
  {
   "cell_type": "code",
   "execution_count": null,
   "metadata": {
    "id": "XA6RDTcIsn3W",
    "outputId": "7c541028-28ec-4763-bbce-9b6f199cf96f"
   },
   "outputs": [
    {
     "data": {
      "text/plain": [
       "tensor([2., 5.])"
      ]
     },
     "execution_count": 6,
     "metadata": {},
     "output_type": "execute_result"
    }
   ],
   "source": [
    "# Example 1 - working\n",
    "a = torch.tensor([4,25])\n",
    "torch.sqrt(a)"
   ]
  },
  {
   "cell_type": "markdown",
   "metadata": {
    "id": "-R_1oKBOsn3X"
   },
   "source": [
    "A tensor is made of 2 elements, which are perfect squares,and then passed to the sqrt function to demonstrate that it is calculating the square roots of the elements, which are displayed."
   ]
  },
  {
   "cell_type": "code",
   "execution_count": null,
   "metadata": {
    "id": "3Ru7vTcEsn3X",
    "outputId": "d1ba2076-e62e-4a22-c4e6-f31010fc0c04"
   },
   "outputs": [
    {
     "name": "stdout",
     "output_type": "stream",
     "text": [
      "tensor([-1,  0, -1,  1])\n"
     ]
    },
    {
     "data": {
      "text/plain": [
       "tensor([nan, 0., nan, 1.])"
      ]
     },
     "execution_count": 13,
     "metadata": {},
     "output_type": "execute_result"
    }
   ],
   "source": [
    "# Example 2 - working\n",
    "a = torch.randint(-5,7,(4,))\n",
    "print(a)\n",
    "torch.sqrt(a)"
   ]
  },
  {
   "cell_type": "markdown",
   "metadata": {
    "id": "JXs0nIaPsn3X"
   },
   "source": [
    "A tensor of 4 random elements is made using the function 1 (randint) explained above. The tensor is printed, to show the existence of negative values, and when these are passed to the sqrt function, it returns 'nan', as square root doesn't exists of those values."
   ]
  },
  {
   "cell_type": "code",
   "execution_count": null,
   "metadata": {
    "colab": {
     "background_save": true
    },
    "id": "0Ae4f7Wasn3Y"
   },
   "outputs": [
    {
     "name": "stdout",
     "output_type": "stream",
     "text": [
      "tensor(3.+2.j)\n"
     ]
    },
    {
     "ename": "TypeError",
     "evalue": "ignored",
     "output_type": "error",
     "traceback": [
      "\u001b[0;31m---------------------------------------------------------------------------\u001b[0m",
      "\u001b[0;31mTypeError\u001b[0m                                 Traceback (most recent call last)",
      "\u001b[0;32m<ipython-input-15-8c962b16d579>\u001b[0m in \u001b[0;36m<module>\u001b[0;34m\u001b[0m\n\u001b[1;32m      2\u001b[0m \u001b[0ma\u001b[0m \u001b[0;34m=\u001b[0m \u001b[0mtorch\u001b[0m\u001b[0;34m.\u001b[0m\u001b[0mtensor\u001b[0m\u001b[0;34m(\u001b[0m\u001b[0;36m3\u001b[0m\u001b[0;34m+\u001b[0m\u001b[0;36m2j\u001b[0m\u001b[0;34m)\u001b[0m\u001b[0;34m\u001b[0m\u001b[0;34m\u001b[0m\u001b[0m\n\u001b[1;32m      3\u001b[0m \u001b[0mprint\u001b[0m\u001b[0;34m(\u001b[0m\u001b[0ma\u001b[0m\u001b[0;34m)\u001b[0m\u001b[0;34m\u001b[0m\u001b[0;34m\u001b[0m\u001b[0m\n\u001b[0;32m----> 4\u001b[0;31m \u001b[0mtorch\u001b[0m\u001b[0;34m.\u001b[0m\u001b[0msqrt\u001b[0m\u001b[0;34m(\u001b[0m\u001b[0;36m3\u001b[0m\u001b[0;34m+\u001b[0m\u001b[0;36m2j\u001b[0m\u001b[0;34m)\u001b[0m\u001b[0;34m\u001b[0m\u001b[0;34m\u001b[0m\u001b[0m\n\u001b[0m",
      "\u001b[0;31mTypeError\u001b[0m: sqrt(): argument 'input' (position 1) must be Tensor, not complex"
     ]
    }
   ],
   "source": [
    "# Example 3 - breaking (to illustrate when it breaks)\n",
    "a = torch.tensor(3+2j)\n",
    "print(a)\n",
    "torch.sqrt(3+2j)"
   ]
  },
  {
   "cell_type": "markdown",
   "metadata": {
    "id": "vW1QMwVIsn3Y"
   },
   "source": [
    "When a complex number is input to the function, it returns an error. It only expects real values. However, it is also true that complex numbers will be rarely or impossible to counter, so it is not of much concern."
   ]
  },
  {
   "cell_type": "markdown",
   "metadata": {
    "id": "uXQntpaYsn3Y"
   },
   "source": [
    "This is the square root, one of the many common operators in math. Also it is useful in machine learning in different places. Although there would be functions to calculate values like the standard deviation, but this can also be used, if the standard deviation is being calculated using the formula."
   ]
  },
  {
   "cell_type": "code",
   "execution_count": null,
   "metadata": {
    "id": "Z3Yydvr3sn3Y",
    "outputId": "a10b17d5-6a9b-47fc-d2ca-4ac1b5913c54"
   },
   "outputs": [
    {
     "data": {
      "application/javascript": [
       "window.require && require([\"base/js/namespace\"],function(Jupyter){Jupyter.notebook.save_checkpoint()})"
      ],
      "text/plain": [
       "<IPython.core.display.Javascript object>"
      ]
     },
     "metadata": {},
     "output_type": "display_data"
    }
   ],
   "source": [
    "jovian.commit(project='Assignment-01-tensor-operations')"
   ]
  },
  {
   "cell_type": "markdown",
   "metadata": {
    "id": "uD-rzto9sn3Z"
   },
   "source": [
    "## Function 3 - torch.transpose\n",
    "\n",
    "This is a function that generates a tensor, that corresponds to the transpose of the elements of the tensor that was passed to it. It is the general form of the other function which is torch.t(). A tensor of any order can be passed to this general function and any 2 dimensions can be transposed, which are also passed as arguments of the function."
   ]
  },
  {
   "cell_type": "code",
   "execution_count": null,
   "metadata": {
    "id": "ksgcgQBFsn3Z",
    "outputId": "7c8367a4-ab7f-4005-fbff-436307a540f0"
   },
   "outputs": [
    {
     "name": "stdout",
     "output_type": "stream",
     "text": [
      "tensor([[ 3,  0],\n",
      "        [-1, -3],\n",
      "        [ 3,  3],\n",
      "        [ 6,  2]])\n"
     ]
    },
    {
     "data": {
      "text/plain": [
       "tensor([[ 3, -1,  3,  6],\n",
       "        [ 0, -3,  3,  2]])"
      ]
     },
     "execution_count": 18,
     "metadata": {},
     "output_type": "execute_result"
    }
   ],
   "source": [
    "# Example 1 - working\n",
    "a = torch.randint(-5,7,(4,2))\n",
    "print(a)\n",
    "torch.transpose(a,0,1)"
   ]
  },
  {
   "cell_type": "markdown",
   "metadata": {
    "id": "dfXAQy3Rsn3Z"
   },
   "source": [
    "A tensor of size 4 x 2 is made using the function 1 (randint) explained above. The tensor is printed for visualization and then later comparison. The function is called to transpose the tensor a and to swap its first and the second dimension which are passed as 0 and 1, as shown. Notice that the size of the tensor is now changed to 2 x 4."
   ]
  },
  {
   "cell_type": "code",
   "execution_count": null,
   "metadata": {
    "id": "yDR9Eo0Wsn3Z",
    "outputId": "6a84e900-f6a5-47ce-a0ec-cf6b8a1cd8df"
   },
   "outputs": [
    {
     "name": "stdout",
     "output_type": "stream",
     "text": [
      "tensor([[[ 1,  3,  2],\n",
      "         [ 1,  4, -5]],\n",
      "\n",
      "        [[ 2,  6, -5],\n",
      "         [ 1,  5, -5]],\n",
      "\n",
      "        [[ 0, -1,  0],\n",
      "         [ 4, -3,  3]],\n",
      "\n",
      "        [[-1,  4, -3],\n",
      "         [-3,  4,  5]]])\n"
     ]
    },
    {
     "data": {
      "text/plain": [
       "tensor([[[ 1,  2,  0, -1],\n",
       "         [ 1,  1,  4, -3]],\n",
       "\n",
       "        [[ 3,  6, -1,  4],\n",
       "         [ 4,  5, -3,  4]],\n",
       "\n",
       "        [[ 2, -5,  0, -3],\n",
       "         [-5, -5,  3,  5]]])"
      ]
     },
     "execution_count": 19,
     "metadata": {},
     "output_type": "execute_result"
    }
   ],
   "source": [
    "# Example 2 - working\n",
    "a = torch.randint(-5,7,(4,2,3))\n",
    "print(a)\n",
    "torch.transpose(a,0,2)"
   ]
  },
  {
   "cell_type": "markdown",
   "metadata": {
    "id": "MeGbE6c3sn3a"
   },
   "source": [
    "Now, a 3-D tensor of size 4 x 2 x 3 is made using the function 1 (randint) explained above. The tensor is printed for visualization and then later comparison. The function is called to transpose the tensor a and to swap its first and the third dimension which are passed as 0 and 2, as shown. Notice that the size of the tensor is now changed to 3 x 2 x 4 (The first and the third dimensions are interchanged). "
   ]
  },
  {
   "cell_type": "code",
   "execution_count": null,
   "metadata": {
    "id": "fkjlF6kmsn3a",
    "outputId": "1fa49eb9-2a1e-4f40-b0d0-3245793cec61"
   },
   "outputs": [
    {
     "ename": "TypeError",
     "evalue": "transpose() received an invalid combination of arguments - got (Tensor, int, int, int), but expected one of:\n * (Tensor input, int dim0, int dim1)\n * (Tensor input, name dim0, name dim1)\n",
     "output_type": "error",
     "traceback": [
      "\u001b[0;31m---------------------------------------------------------------------------\u001b[0m",
      "\u001b[0;31mTypeError\u001b[0m                                 Traceback (most recent call last)",
      "\u001b[0;32m/tmp/ipykernel_37/1562378707.py\u001b[0m in \u001b[0;36m<module>\u001b[0;34m\u001b[0m\n\u001b[1;32m      1\u001b[0m \u001b[0;31m# Example 3 - breaking (to illustrate when it breaks)\u001b[0m\u001b[0;34m\u001b[0m\u001b[0;34m\u001b[0m\u001b[0m\n\u001b[1;32m      2\u001b[0m \u001b[0ma\u001b[0m \u001b[0;34m=\u001b[0m \u001b[0mtorch\u001b[0m\u001b[0;34m.\u001b[0m\u001b[0mrandint\u001b[0m\u001b[0;34m(\u001b[0m\u001b[0;34m-\u001b[0m\u001b[0;36m5\u001b[0m\u001b[0;34m,\u001b[0m\u001b[0;36m7\u001b[0m\u001b[0;34m,\u001b[0m\u001b[0;34m(\u001b[0m\u001b[0;36m4\u001b[0m\u001b[0;34m,\u001b[0m\u001b[0;36m2\u001b[0m\u001b[0;34m,\u001b[0m\u001b[0;36m3\u001b[0m\u001b[0;34m)\u001b[0m\u001b[0;34m)\u001b[0m\u001b[0;34m\u001b[0m\u001b[0;34m\u001b[0m\u001b[0m\n\u001b[0;32m----> 3\u001b[0;31m \u001b[0mtorch\u001b[0m\u001b[0;34m.\u001b[0m\u001b[0mtranspose\u001b[0m\u001b[0;34m(\u001b[0m\u001b[0ma\u001b[0m\u001b[0;34m,\u001b[0m\u001b[0;36m0\u001b[0m\u001b[0;34m,\u001b[0m\u001b[0;36m2\u001b[0m\u001b[0;34m,\u001b[0m\u001b[0;36m1\u001b[0m\u001b[0;34m)\u001b[0m\u001b[0;34m\u001b[0m\u001b[0;34m\u001b[0m\u001b[0m\n\u001b[0m",
      "\u001b[0;31mTypeError\u001b[0m: transpose() received an invalid combination of arguments - got (Tensor, int, int, int), but expected one of:\n * (Tensor input, int dim0, int dim1)\n * (Tensor input, name dim0, name dim1)\n"
     ]
    }
   ],
   "source": [
    "# Example 3 - breaking (to illustrate when it breaks)\n",
    "a = torch.randint(-5,7,(4,2,3))\n",
    "torch.transpose(a,0,2,1)"
   ]
  },
  {
   "cell_type": "markdown",
   "metadata": {
    "id": "kwKcPnGHsn3a"
   },
   "source": [
    "Using this function it is not possible to swap more than 2 dimensions at once. To swap multiple dimensions, the function will have to be called multiple times. This function only takes 2 dimensions at one time."
   ]
  },
  {
   "cell_type": "markdown",
   "metadata": {
    "id": "aZjUr3Z6sn3a"
   },
   "source": [
    "This function can be used when the data is imported from a excel file of features and test data, however the size is not compatible for multiplying 2 quantities to get more meaningful variables. So the transpose function is used to transpose the tensor and then multiply."
   ]
  },
  {
   "cell_type": "code",
   "execution_count": null,
   "metadata": {
    "id": "3o9QGHA-sn3b",
    "outputId": "d8d15eb5-c7f3-4459-a2a8-09a0c62edaad"
   },
   "outputs": [
    {
     "data": {
      "application/javascript": [
       "window.require && require([\"base/js/namespace\"],function(Jupyter){Jupyter.notebook.save_checkpoint()})"
      ],
      "text/plain": [
       "<IPython.core.display.Javascript object>"
      ]
     },
     "metadata": {},
     "output_type": "display_data"
    }
   ],
   "source": [
    "jovian.commit(project='Assignment-01-tensor-operations')"
   ]
  },
  {
   "cell_type": "markdown",
   "metadata": {
    "id": "qnDsPHRksn3b"
   },
   "source": [
    "## Function 4 - torch.linspace\n",
    "\n",
    "This function generates a 1-D tensor of evenly spaced values, that takes the minimum and maximum values as arguments. Another argument that can be passed is the number of steps, or the size of the tensor that needs to be generated, originally it is set to 100. "
   ]
  },
  {
   "cell_type": "code",
   "execution_count": null,
   "metadata": {
    "id": "9Kwxdhoxsn3b",
    "outputId": "0a90fdb9-5bbb-4de4-f625-d43703785c30"
   },
   "outputs": [
    {
     "data": {
      "text/plain": [
       "tensor([ 0.1000,  0.2000,  0.3000,  0.4000,  0.5000,  0.6000,  0.7000,  0.8000,\n",
       "         0.9000,  1.0000,  1.1000,  1.2000,  1.3000,  1.4000,  1.5000,  1.6000,\n",
       "         1.7000,  1.8000,  1.9000,  2.0000,  2.1000,  2.2000,  2.3000,  2.4000,\n",
       "         2.5000,  2.6000,  2.7000,  2.8000,  2.9000,  3.0000,  3.1000,  3.2000,\n",
       "         3.3000,  3.4000,  3.5000,  3.6000,  3.7000,  3.8000,  3.9000,  4.0000,\n",
       "         4.1000,  4.2000,  4.3000,  4.4000,  4.5000,  4.6000,  4.7000,  4.8000,\n",
       "         4.9000,  5.0000,  5.1000,  5.2000,  5.3000,  5.4000,  5.5000,  5.6000,\n",
       "         5.7000,  5.8000,  5.9000,  6.0000,  6.1000,  6.2000,  6.3000,  6.4000,\n",
       "         6.5000,  6.6000,  6.7000,  6.8000,  6.9000,  7.0000,  7.1000,  7.2000,\n",
       "         7.3000,  7.4000,  7.5000,  7.6000,  7.7000,  7.8000,  7.9000,  8.0000,\n",
       "         8.1000,  8.2000,  8.3000,  8.4000,  8.5000,  8.6000,  8.7000,  8.8000,\n",
       "         8.9000,  9.0000,  9.1000,  9.2000,  9.3000,  9.4000,  9.5000,  9.6000,\n",
       "         9.7000,  9.8000,  9.9000, 10.0000])"
      ]
     },
     "execution_count": 5,
     "metadata": {},
     "output_type": "execute_result"
    }
   ],
   "source": [
    "# Example 1 - working\n",
    "torch.linspace(0.1,10)"
   ]
  },
  {
   "cell_type": "markdown",
   "metadata": {
    "id": "WWZAtDdQsn3b"
   },
   "source": [
    "This generates a tensor between 0.1 and 10 as those are the minimum and maximum values passed to it. The steps are set to 100, as the number of steps is not defined by the user. Hence the step size is calculated to be $\\frac{10 - 0.1}{100-1}=0.1 $"
   ]
  },
  {
   "cell_type": "code",
   "execution_count": null,
   "metadata": {
    "id": "G23HEJqPsn3b",
    "outputId": "b42f47ea-afe4-4a20-f16a-410ddf06f280"
   },
   "outputs": [
    {
     "data": {
      "text/plain": [
       "tensor([ 10.,   5.,   0.,  -5., -10.])"
      ]
     },
     "execution_count": 3,
     "metadata": {},
     "output_type": "execute_result"
    }
   ],
   "source": [
    "# Example 2 - working\n",
    "torch.linspace(10,-10,5)"
   ]
  },
  {
   "cell_type": "markdown",
   "metadata": {
    "id": "WdUMWQa7sn3c"
   },
   "source": [
    "This time, the values are passed in reverse, so the tensor generated is also in descending order. The steps are set to be 5 so the step size is calculated to also be 5."
   ]
  },
  {
   "cell_type": "code",
   "execution_count": null,
   "metadata": {
    "id": "onnmIba7sn3c",
    "outputId": "de18bac7-6c54-4371-c8aa-04883f3679dd"
   },
   "outputs": [
    {
     "ename": "TypeError",
     "evalue": "linspace(): argument 'steps' (position 3) must be int, not tuple",
     "output_type": "error",
     "traceback": [
      "\u001b[0;31m---------------------------------------------------------------------------\u001b[0m",
      "\u001b[0;31mTypeError\u001b[0m                                 Traceback (most recent call last)",
      "\u001b[0;32m/tmp/ipykernel_38/155365202.py\u001b[0m in \u001b[0;36m<module>\u001b[0;34m\u001b[0m\n\u001b[1;32m      1\u001b[0m \u001b[0;31m# Example 3 - breaking (to illustrate when it breaks)\u001b[0m\u001b[0;34m\u001b[0m\u001b[0;34m\u001b[0m\u001b[0m\n\u001b[0;32m----> 2\u001b[0;31m \u001b[0mtorch\u001b[0m\u001b[0;34m.\u001b[0m\u001b[0mlinspace\u001b[0m\u001b[0;34m(\u001b[0m\u001b[0;36m10\u001b[0m\u001b[0;34m,\u001b[0m\u001b[0;34m-\u001b[0m\u001b[0;36m10\u001b[0m\u001b[0;34m,\u001b[0m\u001b[0;34m(\u001b[0m\u001b[0;36m1\u001b[0m\u001b[0;34m,\u001b[0m\u001b[0;36m2\u001b[0m\u001b[0;34m)\u001b[0m\u001b[0;34m)\u001b[0m\u001b[0;34m\u001b[0m\u001b[0;34m\u001b[0m\u001b[0m\n\u001b[0m",
      "\u001b[0;31mTypeError\u001b[0m: linspace(): argument 'steps' (position 3) must be int, not tuple"
     ]
    }
   ],
   "source": [
    "# Example 3 - breaking (to illustrate when it breaks)\n",
    "torch.linspace(10,-10,(1,2))"
   ]
  },
  {
   "cell_type": "markdown",
   "metadata": {
    "id": "_z0LR9fEsn3c"
   },
   "source": [
    "Notice that this function can only be used to generate 1-D tensors, and not greater than that. So it is wrong to input the size of a multidimensional error and expecting one. It should be thought of as the number of steps rather than the size of the tensor to avoid this mistake."
   ]
  },
  {
   "cell_type": "markdown",
   "metadata": {
    "id": "L07-GEtDsn3c"
   },
   "source": [
    "Closing comments about when to use this function"
   ]
  },
  {
   "cell_type": "code",
   "execution_count": null,
   "metadata": {
    "id": "dQ4_7r-0sn3c",
    "outputId": "e1efe5c6-bfce-413e-ec4d-8852d7beb34a"
   },
   "outputs": [
    {
     "data": {
      "application/javascript": [
       "window.require && require([\"base/js/namespace\"],function(Jupyter){Jupyter.notebook.save_checkpoint()})"
      ],
      "text/plain": [
       "<IPython.core.display.Javascript object>"
      ]
     },
     "metadata": {},
     "output_type": "display_data"
    },
    {
     "name": "stdout",
     "output_type": "stream",
     "text": [
      "[jovian] Attempting to save notebook..\u001b[0m\n",
      "[jovian] Updating notebook \"aakashns/01-tensor-operations\" on https://jovian.ai/\u001b[0m\n",
      "[jovian] Uploading notebook..\u001b[0m\n",
      "[jovian] Capturing environment..\u001b[0m\n",
      "[jovian] Committed successfully! https://jovian.ai/aakashns/01-tensor-operations\u001b[0m\n"
     ]
    },
    {
     "data": {
      "text/plain": [
       "'https://jovian.ai/aakashns/01-tensor-operations'"
      ]
     },
     "execution_count": 18,
     "metadata": {},
     "output_type": "execute_result"
    }
   ],
   "source": [
    "jovian.commit(project='Assignment-01-tensor-operations')"
   ]
  },
  {
   "cell_type": "markdown",
   "metadata": {
    "id": "qc_8llIfsn3d"
   },
   "source": [
    "## Function 5 - torch.histc\n",
    "\n",
    "This function takes in a tensor and the number of bins that have to be made to generate a histogram tensor, which contains the frequency of values in those bins. There are additional arguments of minimum and maximum values that can be passed too."
   ]
  },
  {
   "cell_type": "code",
   "execution_count": null,
   "metadata": {
    "id": "Ie0THcXosn3d",
    "outputId": "f0121ce9-30d6-4f70-85ed-fded1957c807"
   },
   "outputs": [
    {
     "name": "stdout",
     "output_type": "stream",
     "text": [
      "tensor([5., 2., 4., 5., 3.])\n"
     ]
    },
    {
     "data": {
      "image/png": "[encoded data removed]",
      "text/plain": [
       "<Figure size 432x288 with 1 Axes>"
      ]
     },
     "metadata": {},
     "output_type": "display_data"
    }
   ],
   "source": [
    "# Example 1 - working\n",
    "a = torch.tensor([0.,0,0,1,1,2,3,4,4,4,5,6,6,6,6,7,8,9,9])\n",
    "hist = torch.histc(a,5)\n",
    "print(hist)\n",
    "\n",
    "import matplotlib.pyplot as plt\n",
    "plt.bar((1,3,5,7,9),hist)\n",
    "plt.show()"
   ]
  },
  {
   "cell_type": "markdown",
   "metadata": {
    "id": "wVN6YIwNsn3d"
   },
   "source": [
    "This example shows that a tensor is passed to the function to make 5 bins, and a tensor containing frequency in those 5 bins is produced. Then using the other plotting library, it is the histogram is visualized."
   ]
  },
  {
   "cell_type": "code",
   "execution_count": null,
   "metadata": {
    "id": "JopVvuWjsn3d",
    "outputId": "993c3aad-81a7-420f-800a-87d340fd9b5a"
   },
   "outputs": [
    {
     "name": "stdout",
     "output_type": "stream",
     "text": [
      "tensor([ 4.,  3.,  5., 10.])\n"
     ]
    },
    {
     "data": {
      "image/png": "[encoded data removed]",
      "text/plain": [
       "<Figure size 432x288 with 1 Axes>"
      ]
     },
     "metadata": {},
     "output_type": "display_data"
    }
   ],
   "source": [
    "# Example 2 - working\n",
    "a = torch.randint(-10,5,(40,)).type(torch.float)\n",
    "hist = torch.histc(a,4,-4,4)\n",
    "print(hist)\n",
    "\n",
    "plt.bar((-3,-1,1,3),hist)\n",
    "plt.show()"
   ]
  },
  {
   "cell_type": "markdown",
   "metadata": {
    "id": "7YY3Z8SOsn3e"
   },
   "source": [
    "Here the tensor a generated has a range of values, but in the histogram , the minimum and maximum is set to be -4 and 4 respectively, so it'll only pick values from the tensor between this range and count it frequencies and distribute it among 4 equal spaces or bins. The histogram is shown."
   ]
  },
  {
   "cell_type": "code",
   "execution_count": null,
   "metadata": {
    "id": "gPxO_sFFsn3e",
    "outputId": "d8d3148d-1f90-4c49-9845-2b7950871ddf"
   },
   "outputs": [
    {
     "ename": "RuntimeError",
     "evalue": "_th_histc not supported on CPUType for Long",
     "output_type": "error",
     "traceback": [
      "\u001b[0;31m---------------------------------------------------------------------------\u001b[0m",
      "\u001b[0;31mRuntimeError\u001b[0m                              Traceback (most recent call last)",
      "\u001b[0;32m/tmp/ipykernel_37/257192333.py\u001b[0m in \u001b[0;36m<module>\u001b[0;34m\u001b[0m\n\u001b[1;32m      1\u001b[0m \u001b[0;31m# Example 3 - breaking (to illustrate when it breaks)\u001b[0m\u001b[0;34m\u001b[0m\u001b[0;34m\u001b[0m\u001b[0m\n\u001b[1;32m      2\u001b[0m \u001b[0ma\u001b[0m \u001b[0;34m=\u001b[0m \u001b[0mtorch\u001b[0m\u001b[0;34m.\u001b[0m\u001b[0mrandint\u001b[0m\u001b[0;34m(\u001b[0m\u001b[0;34m-\u001b[0m\u001b[0;36m10\u001b[0m\u001b[0;34m,\u001b[0m\u001b[0;36m5\u001b[0m\u001b[0;34m,\u001b[0m\u001b[0;34m(\u001b[0m\u001b[0;36m40\u001b[0m\u001b[0;34m,\u001b[0m\u001b[0;34m)\u001b[0m\u001b[0;34m)\u001b[0m\u001b[0;34m\u001b[0m\u001b[0;34m\u001b[0m\u001b[0m\n\u001b[0;32m----> 3\u001b[0;31m \u001b[0mhist\u001b[0m \u001b[0;34m=\u001b[0m \u001b[0mtorch\u001b[0m\u001b[0;34m.\u001b[0m\u001b[0mhistc\u001b[0m\u001b[0;34m(\u001b[0m\u001b[0ma\u001b[0m\u001b[0;34m,\u001b[0m\u001b[0;36m4\u001b[0m\u001b[0;34m,\u001b[0m\u001b[0;34m-\u001b[0m\u001b[0;36m4\u001b[0m\u001b[0;34m,\u001b[0m\u001b[0;36m4\u001b[0m\u001b[0;34m)\u001b[0m\u001b[0;34m\u001b[0m\u001b[0;34m\u001b[0m\u001b[0m\n\u001b[0m",
      "\u001b[0;31mRuntimeError\u001b[0m: _th_histc not supported on CPUType for Long"
     ]
    }
   ],
   "source": [
    "# Example 3 - breaking (to illustrate when it breaks)\n",
    "a = torch.randint(-10,5,(40,))\n",
    "hist = torch.histc(a,4,-4,4)"
   ]
  },
  {
   "cell_type": "markdown",
   "metadata": {
    "id": "NxkrqCE0sn3e"
   },
   "source": [
    "The histogram function only takes in floating values, but the random generator only generates integer values, hence giving an error. That is why in example 2, the tensor a has been converted to floating values to plot the generate the histogram tensor."
   ]
  },
  {
   "cell_type": "markdown",
   "metadata": {
    "id": "TYCY2gIKsn3e"
   },
   "source": [
    "This function can be used whenever the data needs to visualized. The data may need visualizing when the relations betweens features of the data is to be found or when cleaning the data. histogram is one of the best representations of data."
   ]
  },
  {
   "cell_type": "code",
   "execution_count": null,
   "metadata": {
    "id": "z_FH5Jndsn3e",
    "outputId": "2cfc9f5c-34e4-48c3-bc8a-bd03f9db5354"
   },
   "outputs": [
    {
     "data": {
      "application/javascript": [
       "window.require && require([\"base/js/namespace\"],function(Jupyter){Jupyter.notebook.save_checkpoint()})"
      ],
      "text/plain": [
       "<IPython.core.display.Javascript object>"
      ]
     },
     "metadata": {},
     "output_type": "display_data"
    },
    {
     "name": "stdout",
     "output_type": "stream",
     "text": [
      "[jovian] Updating notebook \"mirnazali2015/assignment-01-tensor-operations\" on https://jovian.com\u001b[0m\n",
      "[jovian] Committed successfully! https://jovian.com/mirnazali2015/assignment-01-tensor-operations\u001b[0m\n"
     ]
    },
    {
     "data": {
      "text/plain": [
       "'https://jovian.com/mirnazali2015/assignment-01-tensor-operations'"
      ]
     },
     "execution_count": 3,
     "metadata": {},
     "output_type": "execute_result"
    }
   ],
   "source": [
    "jovian.commit(project='Assignment-01-tensor-operations')"
   ]
  },
  {
   "cell_type": "markdown",
   "metadata": {
    "id": "iSlQOHEesn3e"
   },
   "source": [
    "## Conclusion\n",
    "\n",
    "This notebook covers some of the basic functions, their uses, examples and when and why these functions fail. They have been carefully chosen, which can be of use in the near future in this machine learning course. This is also good practice to introduce yourself to the binder and its problems and the revising python, if a person has been out of practice for a while. The 5 functions that are covered are randint, sqrt, transpose, linspace and lastly histc."
   ]
  },
  {
   "cell_type": "markdown",
   "metadata": {
    "id": "AlTMdjbdsn3f"
   },
   "source": [
    "## Reference Links\n",
    "All functions and information regarding the functions has been picked from the following references:\n",
    "* Official documentation for tensor operations: https://pytorch.org/docs/stable/torch.html\n",
    "* Using the code to visualize the histogram tensor: https://www.geeksforgeeks.org/how-to-compute-the-histogram-of-a-tensor-in-pytorch/"
   ]
  },
  {
   "cell_type": "code",
   "execution_count": null,
   "metadata": {
    "id": "EFOIl9DSsn3f",
    "outputId": "dfcd1dad-8987-4498-fe90-6635e84e424d"
   },
   "outputs": [
    {
     "data": {
      "application/javascript": [
       "window.require && require([\"base/js/namespace\"],function(Jupyter){Jupyter.notebook.save_checkpoint()})"
      ],
      "text/plain": [
       "<IPython.core.display.Javascript object>"
      ]
     },
     "metadata": {},
     "output_type": "display_data"
    }
   ],
   "source": [
    "jovian.commit(project='Assignment-01-tensor-operations')"
   ]
  },
  {
   "cell_type": "code",
   "execution_count": null,
   "metadata": {
    "id": "pRSu3Ohasn3f"
   },
   "outputs": [],
   "source": []
  }
 ],
 "metadata": {
  "colab": {
   "name": "",
   "version": ""
  },
  "language_info": {
   "codemirror_mode": {
    "name": "ipython",
    "version": 3
   },
   "file_extension": ".py",
   "mimetype": "text/x-python",
   "name": "python",
   "nbconvert_exporter": "python",
   "pygments_lexer": "ipython3",
   "version": "3.9.7"
  }
 },
 "nbformat": 4,
 "nbformat_minor": 0
}